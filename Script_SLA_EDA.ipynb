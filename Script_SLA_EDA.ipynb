{
 "cells": [
  {
   "cell_type": "code",
   "execution_count": 1,
   "id": "695cd3db-e408-4721-902d-3d9df99ebeb6",
   "metadata": {},
   "outputs": [
    {
     "name": "stdout",
     "output_type": "stream",
     "text": [
      "time: 199 µs (started: 2023-06-15 06:27:32 +00:00)\n"
     ]
    }
   ],
   "source": [
    "# Import the warnings package to ignore warning messages to limit clutter in the console\n",
    "\n",
    "import warnings\n",
    "warnings.filterwarnings('ignore')\n",
    "\n",
    "%load_ext autotime"
   ]
  },
  {
   "cell_type": "code",
   "execution_count": 2,
   "id": "83ce80f7-5e3a-4345-bea3-66645623852f",
   "metadata": {},
   "outputs": [
    {
     "name": "stdout",
     "output_type": "stream",
     "text": [
      "time: 1.33 s (started: 2023-06-15 06:27:32 +00:00)\n"
     ]
    }
   ],
   "source": [
    "import pandas as pd\n",
    "import numpy as np\n",
    "from Target_Encoder import Target_Encoder\n",
    "\n",
    "from sklearn.compose import ColumnTransformer, TransformedTargetRegressor\n",
    "from sklearn.model_selection import train_test_split, GridSearchCV, cross_val_predict, cross_validate, RandomizedSearchCV, KFold, cross_val_score\n",
    "from sklearn.model_selection import StratifiedKFold, RepeatedStratifiedKFold\n",
    "from sklearn.preprocessing import OneHotEncoder, RobustScaler, FunctionTransformer\n",
    "from sklearn.metrics import classification_report, confusion_matrix, accuracy_score, f1_score,ConfusionMatrixDisplay, precision_recall_curve, auc, roc_curve, PrecisionRecallDisplay\n",
    "from sklearn.metrics import balanced_accuracy_score,precision_score, recall_score\n",
    "from sklearn.pipeline import Pipeline, make_pipeline\n",
    "from sklearn.linear_model import LogisticRegression, LinearRegression, RidgeCV, Lasso, LassoCV\n",
    "from sklearn.ensemble import RandomForestClassifier, StackingClassifier, VotingClassifier\n",
    "from sklearn.inspection import permutation_importance\n",
    "from sklearn.svm import SVC\n",
    "from typing import Tuple\n",
    "\n",
    "import catboost as cb\n",
    "import xgboost as xgb\n",
    "import lightgbm as lgb\n",
    "import matplotlib.pyplot as plt"
   ]
  },
  {
   "cell_type": "code",
   "execution_count": 3,
   "id": "bbdd38f4-f520-4dd4-a392-a3cf89c5a6fe",
   "metadata": {},
   "outputs": [
    {
     "name": "stdout",
     "output_type": "stream",
     "text": [
      "<class 'pandas.core.frame.DataFrame'>\n",
      "RangeIndex: 192927 entries, 0 to 192926\n",
      "Data columns (total 18 columns):\n",
      " #   Column                     Non-Null Count   Dtype \n",
      "---  ------                     --------------   ----- \n",
      " 0   country_code               192927 non-null  object\n",
      " 1   client_property_name       192927 non-null  object\n",
      " 2   workorder_number           192927 non-null  object\n",
      " 3   WhoDidIt                   192927 non-null  object\n",
      " 4   workorder_desc             192921 non-null  object\n",
      " 5   WOCreatedDate              192927 non-null  object\n",
      " 6   WODateCompleted            127076 non-null  object\n",
      " 7   SLA                        192927 non-null  object\n",
      " 8   priority_code              192927 non-null  object\n",
      " 9   type_code                  192927 non-null  object\n",
      " 10  category_code              192927 non-null  int64 \n",
      " 11  category_code_desc         192927 non-null  object\n",
      " 12  sub_category_code          192927 non-null  int64 \n",
      " 13  sub_category_code_desc     192927 non-null  object\n",
      " 14  repair_category_code       192927 non-null  int64 \n",
      " 15  repair_category_code_desc  192927 non-null  object\n",
      " 16  problem_code_id            192927 non-null  int64 \n",
      " 17  problem_code_desc          192927 non-null  object\n",
      "dtypes: int64(4), object(14)\n",
      "memory usage: 26.5+ MB\n",
      "time: 1.13 s (started: 2023-06-15 06:27:33 +00:00)\n"
     ]
    }
   ],
   "source": [
    "# Import data from the csv file \n",
    "# In this version of the model, we will be using all the parameters to build the model\n",
    "ModelData_All = pd.read_csv('UHG_WOs.csv', engine = 'c')\n",
    "ModelData_All.head()\n",
    "ModelData_All.info()"
   ]
  },
  {
   "cell_type": "code",
   "execution_count": null,
   "id": "52298b22-90c2-4536-8f30-70f6d7278e8c",
   "metadata": {},
   "outputs": [],
   "source": []
  },
  {
   "cell_type": "code",
   "execution_count": 4,
   "id": "66f14c85-aa74-4d26-afbc-0f9bcf7688ff",
   "metadata": {},
   "outputs": [
    {
     "name": "stdout",
     "output_type": "stream",
     "text": [
      "time: 36.5 ms (started: 2023-06-15 06:27:34 +00:00)\n"
     ]
    }
   ],
   "source": [
    "ModelData_US = ModelData_All[ModelData_All['country_code'] == 'US']"
   ]
  },
  {
   "cell_type": "code",
   "execution_count": 5,
   "id": "7c2715ea-e4e5-421e-a841-13d6a5bddf59",
   "metadata": {},
   "outputs": [
    {
     "name": "stdout",
     "output_type": "stream",
     "text": [
      "<class 'pandas.core.frame.DataFrame'>\n",
      "Int64Index: 147259 entries, 45668 to 192926\n",
      "Data columns (total 18 columns):\n",
      " #   Column                     Non-Null Count   Dtype \n",
      "---  ------                     --------------   ----- \n",
      " 0   country_code               147259 non-null  object\n",
      " 1   client_property_name       147259 non-null  object\n",
      " 2   workorder_number           147259 non-null  object\n",
      " 3   WhoDidIt                   147259 non-null  object\n",
      " 4   workorder_desc             147256 non-null  object\n",
      " 5   WOCreatedDate              147259 non-null  object\n",
      " 6   WODateCompleted            93707 non-null   object\n",
      " 7   SLA                        147259 non-null  object\n",
      " 8   priority_code              147259 non-null  object\n",
      " 9   type_code                  147259 non-null  object\n",
      " 10  category_code              147259 non-null  int64 \n",
      " 11  category_code_desc         147259 non-null  object\n",
      " 12  sub_category_code          147259 non-null  int64 \n",
      " 13  sub_category_code_desc     147259 non-null  object\n",
      " 14  repair_category_code       147259 non-null  int64 \n",
      " 15  repair_category_code_desc  147259 non-null  object\n",
      " 16  problem_code_id            147259 non-null  int64 \n",
      " 17  problem_code_desc          147259 non-null  object\n",
      "dtypes: int64(4), object(14)\n",
      "memory usage: 21.3+ MB\n",
      "time: 92.5 ms (started: 2023-06-15 06:27:34 +00:00)\n"
     ]
    }
   ],
   "source": [
    "ModelData_US.info()"
   ]
  },
  {
   "cell_type": "code",
   "execution_count": 6,
   "id": "8cbdfea9-2c56-4d84-bb47-a86ee4ab976b",
   "metadata": {},
   "outputs": [
    {
     "data": {
      "text/plain": [
       "On time    83868\n",
       "Unknown    53552\n",
       "Missed      9839\n",
       "Name: SLA, dtype: int64"
      ]
     },
     "execution_count": 6,
     "metadata": {},
     "output_type": "execute_result"
    },
    {
     "name": "stdout",
     "output_type": "stream",
     "text": [
      "time: 19.2 ms (started: 2023-06-15 06:27:34 +00:00)\n"
     ]
    }
   ],
   "source": [
    "ModelData_US['SLA'].value_counts()"
   ]
  },
  {
   "cell_type": "code",
   "execution_count": 7,
   "id": "266a350e-fa7f-4898-8a07-89a8ee8aa2f4",
   "metadata": {},
   "outputs": [
    {
     "data": {
      "text/plain": [
       "8.524036995629638"
      ]
     },
     "execution_count": 7,
     "metadata": {},
     "output_type": "execute_result"
    },
    {
     "name": "stdout",
     "output_type": "stream",
     "text": [
      "time: 1.69 ms (started: 2023-06-15 06:27:34 +00:00)\n"
     ]
    }
   ],
   "source": [
    "83868/9839"
   ]
  },
  {
   "cell_type": "code",
   "execution_count": 8,
   "id": "0e29f470-75bc-4068-a042-a4fb8ea9390a",
   "metadata": {},
   "outputs": [
    {
     "data": {
      "text/plain": [
       "US    147259\n",
       "Name: country_code, dtype: int64"
      ]
     },
     "execution_count": 8,
     "metadata": {},
     "output_type": "execute_result"
    },
    {
     "name": "stdout",
     "output_type": "stream",
     "text": [
      "time: 16.9 ms (started: 2023-06-15 06:27:34 +00:00)\n"
     ]
    }
   ],
   "source": [
    "ModelData_US['country_code'].value_counts() "
   ]
  },
  {
   "cell_type": "code",
   "execution_count": 108,
   "id": "db22b4ab-c381-41c7-8a91-0b11a745dc51",
   "metadata": {},
   "outputs": [
    {
     "data": {
      "text/plain": [
       "WA052-Everett-3901 Hoyt Ave                   3357\n",
       "MN008-Minnetonka-9900 Bren Rd East            3275\n",
       "MN101-Eden Prairie-11000 Optum Cir            2519\n",
       "WA061-Shoreline-1201 N 175th St               2342\n",
       "WA044-Everett-3927 Rucker Ave                 2263\n",
       "                                              ... \n",
       "VA117-Henrico-8215 Hermitage Rd                  1\n",
       "IL154-Moline-4200 49th Ave                       1\n",
       "CO224-1715 Iron Horse Dr-Ste 100, Ste 102        1\n",
       "CA337-Northridge-18433 Roscoe Blvd-STE 206       1\n",
       "WA030-Seattle-9706 4th Ne Ave                    1\n",
       "Name: client_property_name, Length: 1657, dtype: int64"
      ]
     },
     "execution_count": 108,
     "metadata": {},
     "output_type": "execute_result"
    },
    {
     "name": "stdout",
     "output_type": "stream",
     "text": [
      "time: 16.5 ms (started: 2023-06-16 11:20:33 +00:00)\n"
     ]
    }
   ],
   "source": [
    "ModelData_US['client_property_name'].value_counts()"
   ]
  },
  {
   "cell_type": "code",
   "execution_count": 9,
   "id": "3c538d56-6a15-4ba7-9db3-18dfb1e5a357",
   "metadata": {},
   "outputs": [
    {
     "data": {
      "text/plain": [
       "P9     86952\n",
       "P3     21441\n",
       "P6     14528\n",
       "P7     11871\n",
       "P5      7489\n",
       "P2C     3305\n",
       "P2A     1132\n",
       "P1C      285\n",
       "R1A      140\n",
       "P1A      107\n",
       "P3         5\n",
       "P7         2\n",
       "P4         2\n",
       "Name: priority_code, dtype: int64"
      ]
     },
     "execution_count": 9,
     "metadata": {},
     "output_type": "execute_result"
    },
    {
     "name": "stdout",
     "output_type": "stream",
     "text": [
      "time: 16 ms (started: 2023-06-15 06:27:34 +00:00)\n"
     ]
    }
   ],
   "source": [
    "ModelData_US['priority_code'].value_counts()"
   ]
  },
  {
   "cell_type": "code",
   "execution_count": 10,
   "id": "a61933fd-52fb-400a-911f-28647ff05637",
   "metadata": {},
   "outputs": [
    {
     "data": {
      "text/plain": [
       "PM                    88162\n",
       "Corrective            53984\n",
       "SelfGen                4876\n",
       "Install                  84\n",
       "Project                  43\n",
       "FM Project Expense       37\n",
       "FM Project Capex         32\n",
       "Move                     28\n",
       "Enhance                  12\n",
       "Vendor Credit             1\n",
       "Name: type_code, dtype: int64"
      ]
     },
     "execution_count": 10,
     "metadata": {},
     "output_type": "execute_result"
    },
    {
     "name": "stdout",
     "output_type": "stream",
     "text": [
      "time: 15.7 ms (started: 2023-06-15 06:27:34 +00:00)\n"
     ]
    }
   ],
   "source": [
    "ModelData_US['type_code'].value_counts()"
   ]
  },
  {
   "cell_type": "code",
   "execution_count": 11,
   "id": "d3414349-73b7-4545-a51a-0badb57b4469",
   "metadata": {},
   "outputs": [
    {
     "data": {
      "text/plain": [
       "10    89183\n",
       "6     38375\n",
       "5      6275\n",
       "11     2892\n",
       "9      2182\n",
       "8      1939\n",
       "2      1759\n",
       "7      1643\n",
       "4      1511\n",
       "3      1202\n",
       "13       83\n",
       "16       74\n",
       "17       67\n",
       "15       48\n",
       "14       26\n",
       "Name: category_code, dtype: int64"
      ]
     },
     "execution_count": 11,
     "metadata": {},
     "output_type": "execute_result"
    },
    {
     "name": "stdout",
     "output_type": "stream",
     "text": [
      "time: 3.24 ms (started: 2023-06-15 06:27:34 +00:00)\n"
     ]
    }
   ],
   "source": [
    "ModelData_US['category_code'].value_counts()"
   ]
  },
  {
   "cell_type": "code",
   "execution_count": 12,
   "id": "a2c914d0-e5d5-49f9-b027-2e366c9870f4",
   "metadata": {},
   "outputs": [
    {
     "data": {
      "text/plain": [
       "Preventive Maintenance         89183\n",
       "Maintenance & Repair           38375\n",
       "Janitorial                      6275\n",
       "Security                        2892\n",
       "Office Services                 2182\n",
       "Moves/Adds/Changes              1939\n",
       "Environmental/Health/Safety     1759\n",
       "General Facilities Services     1643\n",
       "Grounds and Parking             1511\n",
       "Furniture/Fixture/Equipment     1202\n",
       "Building Monitoring System        83\n",
       "Permits/License/Fees              74\n",
       "FM Project                        67\n",
       "Lab Equipment                     48\n",
       "Energy Management System          26\n",
       "Name: category_code_desc, dtype: int64"
      ]
     },
     "execution_count": 12,
     "metadata": {},
     "output_type": "execute_result"
    },
    {
     "name": "stdout",
     "output_type": "stream",
     "text": [
      "time: 16.3 ms (started: 2023-06-15 06:27:34 +00:00)\n"
     ]
    }
   ],
   "source": [
    "ModelData_US['category_code_desc'].value_counts()"
   ]
  },
  {
   "cell_type": "code",
   "execution_count": 13,
   "id": "c45281bf-f248-42a3-85db-d7e35cdae7f8",
   "metadata": {},
   "outputs": [
    {
     "data": {
      "text/plain": [
       "1     100989\n",
       "17      9702\n",
       "23      6201\n",
       "15      6084\n",
       "19      4851\n",
       "5       4738\n",
       "3       4437\n",
       "7       3789\n",
       "9       3028\n",
       "21      1160\n",
       "27       578\n",
       "25       433\n",
       "13       420\n",
       "11       288\n",
       "56       180\n",
       "29       129\n",
       "59        74\n",
       "58        48\n",
       "60        36\n",
       "4         32\n",
       "61        31\n",
       "57        26\n",
       "45         5\n",
       "Name: sub_category_code, dtype: int64"
      ]
     },
     "execution_count": 13,
     "metadata": {},
     "output_type": "execute_result"
    },
    {
     "name": "stdout",
     "output_type": "stream",
     "text": [
      "time: 3.28 ms (started: 2023-06-15 06:27:34 +00:00)\n"
     ]
    }
   ],
   "source": [
    "ModelData_US['sub_category_code'].value_counts()"
   ]
  },
  {
   "cell_type": "code",
   "execution_count": 14,
   "id": "bd85757a-f926-4ae0-8a76-52bf34347d35",
   "metadata": {},
   "outputs": [
    {
     "data": {
      "text/plain": [
       "Preventive Maintenance          89183\n",
       "Interior Repair                  9702\n",
       "Plumbing                         6201\n",
       "HVAC                             6079\n",
       "Cleaning                         6060\n",
       "Lighting                         4851\n",
       "Electrical                       3294\n",
       "Doors                            2955\n",
       "Lock & Key                       2753\n",
       "Cafeteria/Breakroom              2358\n",
       "Moves                            1939\n",
       "General Facility Services        1576\n",
       "Fire Suppression                 1345\n",
       "Furniture                        1170\n",
       "Pest Control                     1160\n",
       "Conference Room                  1025\n",
       "Breakroom Supplies                754\n",
       "Landscaping                       613\n",
       "Signs                             578\n",
       "Roofing                           433\n",
       "Office Services                   386\n",
       "Parking Lot                       379\n",
       "Snow Removal                      375\n",
       "Exterior Repair                   272\n",
       "Elevators                         266\n",
       "Recycling & Waste                 215\n",
       "Air Quality                       163\n",
       "Irrigation                        144\n",
       "Environmental                     131\n",
       "Windows                           129\n",
       "Health/Safety                     120\n",
       "EV Charge                          97\n",
       "Building Monitoring System         83\n",
       "Permits                            74\n",
       "Utilities                          67\n",
       "Card Reader                        59\n",
       "Lab Equipment                      48\n",
       "FM Project Operation Expense       36\n",
       "Security                           34\n",
       "Equipment                          32\n",
       "FM Project Operation Capex         31\n",
       "Alarm                              28\n",
       "Energy Management System           26\n",
       "Perimeter                          13\n",
       "Interior Plants                     9\n",
       "Catering                            5\n",
       "Surveillance                        5\n",
       "Mail Room                           3\n",
       "Name: sub_category_code_desc, dtype: int64"
      ]
     },
     "execution_count": 14,
     "metadata": {},
     "output_type": "execute_result"
    },
    {
     "name": "stdout",
     "output_type": "stream",
     "text": [
      "time: 16.7 ms (started: 2023-06-15 06:27:34 +00:00)\n"
     ]
    }
   ],
   "source": [
    "ModelData_US['sub_category_code_desc'].value_counts()"
   ]
  },
  {
   "cell_type": "code",
   "execution_count": 15,
   "id": "25c8a312-b75a-4346-a092-50a6d85c8b59",
   "metadata": {},
   "outputs": [
    {
     "data": {
      "text/plain": [
       "311005    37496\n",
       "311001    21871\n",
       "311009     9268\n",
       "311003     8883\n",
       "141806     6984\n",
       "          ...  \n",
       "171704        1\n",
       "311021        1\n",
       "221007        1\n",
       "221001        1\n",
       "311016        1\n",
       "Name: repair_category_code, Length: 178, dtype: int64"
      ]
     },
     "execution_count": 15,
     "metadata": {},
     "output_type": "execute_result"
    },
    {
     "name": "stdout",
     "output_type": "stream",
     "text": [
      "time: 3.66 ms (started: 2023-06-15 06:27:34 +00:00)\n"
     ]
    }
   ],
   "source": [
    "ModelData_US['repair_category_code'].value_counts()"
   ]
  },
  {
   "cell_type": "code",
   "execution_count": 16,
   "id": "5d1d0da0-196a-4f84-b121-fd9045f76fbe",
   "metadata": {},
   "outputs": [
    {
     "data": {
      "text/plain": [
       "HVAC PM                             37496\n",
       "Electrical PM                       21871\n",
       "Plumbing PM                          9268\n",
       "Fire/Life Safety PM                  8883\n",
       "General PM                           5491\n",
       "                                    ...  \n",
       "FM Project CX Electrical                1\n",
       "Certification at Surgery Centers        1\n",
       "DVR - Repairs                           1\n",
       "FM Project EX Electrical                1\n",
       "Lift/Hoist - PM                         1\n",
       "Name: repair_category_code_desc, Length: 182, dtype: int64"
      ]
     },
     "execution_count": 16,
     "metadata": {},
     "output_type": "execute_result"
    },
    {
     "name": "stdout",
     "output_type": "stream",
     "text": [
      "time: 17 ms (started: 2023-06-15 06:27:35 +00:00)\n"
     ]
    }
   ],
   "source": [
    "ModelData_US['repair_category_code_desc'].value_counts()"
   ]
  },
  {
   "cell_type": "code",
   "execution_count": 17,
   "id": "e2d705f9-ef98-424c-977a-9b4ed44cacf5",
   "metadata": {},
   "outputs": [
    {
     "data": {
      "text/plain": [
       "311005    37496\n",
       "311001    21871\n",
       "311009     9268\n",
       "311003     8883\n",
       "141806     6984\n",
       "          ...  \n",
       "171704        1\n",
       "311021        1\n",
       "221007        1\n",
       "221001        1\n",
       "311016        1\n",
       "Name: problem_code_id, Length: 178, dtype: int64"
      ]
     },
     "execution_count": 17,
     "metadata": {},
     "output_type": "execute_result"
    },
    {
     "name": "stdout",
     "output_type": "stream",
     "text": [
      "time: 3.4 ms (started: 2023-06-15 06:27:35 +00:00)\n"
     ]
    }
   ],
   "source": [
    "ModelData_US['problem_code_id'].value_counts()"
   ]
  },
  {
   "cell_type": "code",
   "execution_count": 18,
   "id": "e238a887-5c4b-4f02-96f6-7b0fe14bae9a",
   "metadata": {},
   "outputs": [
    {
     "data": {
      "text/plain": [
       "HVAC PM                             37496\n",
       "Electrical PM                       21871\n",
       "Plumbing PM                          9268\n",
       "Fire/Life Safety PM                  8883\n",
       "General PM                           5491\n",
       "                                    ...  \n",
       "FM Project CX Electrical                1\n",
       "Certification at Surgery Centers        1\n",
       "DVR - Repairs                           1\n",
       "FM Project EX Electrical                1\n",
       "Lift/Hoist - PM                         1\n",
       "Name: problem_code_desc, Length: 182, dtype: int64"
      ]
     },
     "execution_count": 18,
     "metadata": {},
     "output_type": "execute_result"
    },
    {
     "name": "stdout",
     "output_type": "stream",
     "text": [
      "time: 18.5 ms (started: 2023-06-15 06:27:35 +00:00)\n"
     ]
    }
   ],
   "source": [
    "ModelData_US['problem_code_desc'].value_counts()"
   ]
  },
  {
   "cell_type": "code",
   "execution_count": 19,
   "id": "f7c7b78d-2c41-4ded-a826-0037a6236c78",
   "metadata": {},
   "outputs": [
    {
     "name": "stdout",
     "output_type": "stream",
     "text": [
      "time: 905 µs (started: 2023-06-15 06:27:35 +00:00)\n"
     ]
    }
   ],
   "source": [
    "# Extract Time Features \n",
    "\n",
    "def spinup_timeFeatures(df: pd.DataFrame) -> pd.DataFrame:\n",
    "    \n",
    "    day_part_map = {1: 'Late Night', 2: 'Early Morning',\n",
    "                    3: 'Morning', 4: 'Noon',\n",
    "                    5: 'Evening', 6: 'Night'}\n",
    "    \n",
    "    df['WO_Time'] = pd.to_datetime(df['WOCreatedDate'])\n",
    "    df['Date'] = df['WO_Time'].dt.date\n",
    "    df['Date_dt'] = pd.to_datetime(df['Date'])\n",
    "    df['Year'] = df.WO_Time.dt.year\n",
    "    df[\"Month\"] = df.WO_Time.dt.month_name()\n",
    "    df['DayOfMonth'] = df.WO_Time.dt.day\n",
    "    df['DayOfWeek'] = df.WO_Time.dt.day_name()\n",
    "    df['TimePartOfDay'] = (df.WO_Time.dt.hour % 24 + 4) // 4  # to split 24 hours into 6 bins\n",
    "\n",
    "    #df['TimePartOfDay'] = df['TimePartOfDay'].map(day_part_map)\n",
    "\n",
    "    return df"
   ]
  },
  {
   "cell_type": "code",
   "execution_count": 20,
   "id": "a9834d34-8862-428d-af15-9e1d5fe4d2e3",
   "metadata": {},
   "outputs": [
    {
     "name": "stdout",
     "output_type": "stream",
     "text": [
      "time: 3.65 s (started: 2023-06-15 06:27:35 +00:00)\n"
     ]
    }
   ],
   "source": [
    "ModelData = spinup_timeFeatures(ModelData_US)"
   ]
  },
  {
   "cell_type": "code",
   "execution_count": 21,
   "id": "3a994c88-4bd2-499f-b2f0-a19a5cae4520",
   "metadata": {},
   "outputs": [
    {
     "name": "stdout",
     "output_type": "stream",
     "text": [
      "<class 'pandas.core.frame.DataFrame'>\n",
      "Int64Index: 147259 entries, 45668 to 192926\n",
      "Data columns (total 26 columns):\n",
      " #   Column                     Non-Null Count   Dtype         \n",
      "---  ------                     --------------   -----         \n",
      " 0   country_code               147259 non-null  object        \n",
      " 1   client_property_name       147259 non-null  object        \n",
      " 2   workorder_number           147259 non-null  object        \n",
      " 3   WhoDidIt                   147259 non-null  object        \n",
      " 4   workorder_desc             147256 non-null  object        \n",
      " 5   WOCreatedDate              147259 non-null  object        \n",
      " 6   WODateCompleted            93707 non-null   object        \n",
      " 7   SLA                        147259 non-null  object        \n",
      " 8   priority_code              147259 non-null  object        \n",
      " 9   type_code                  147259 non-null  object        \n",
      " 10  category_code              147259 non-null  int64         \n",
      " 11  category_code_desc         147259 non-null  object        \n",
      " 12  sub_category_code          147259 non-null  int64         \n",
      " 13  sub_category_code_desc     147259 non-null  object        \n",
      " 14  repair_category_code       147259 non-null  int64         \n",
      " 15  repair_category_code_desc  147259 non-null  object        \n",
      " 16  problem_code_id            147259 non-null  int64         \n",
      " 17  problem_code_desc          147259 non-null  object        \n",
      " 18  WO_Time                    147259 non-null  datetime64[ns]\n",
      " 19  Date                       147259 non-null  object        \n",
      " 20  Date_dt                    147259 non-null  datetime64[ns]\n",
      " 21  Year                       147259 non-null  int64         \n",
      " 22  Month                      147259 non-null  object        \n",
      " 23  DayOfMonth                 147259 non-null  int64         \n",
      " 24  DayOfWeek                  147259 non-null  object        \n",
      " 25  TimePartOfDay              147259 non-null  int64         \n",
      "dtypes: datetime64[ns](2), int64(7), object(17)\n",
      "memory usage: 30.3+ MB\n",
      "time: 110 ms (started: 2023-06-15 06:27:38 +00:00)\n"
     ]
    }
   ],
   "source": [
    "ModelData.info()"
   ]
  },
  {
   "cell_type": "code",
   "execution_count": 22,
   "id": "a1b5b68e-4af3-423b-b419-a6615f72b936",
   "metadata": {},
   "outputs": [
    {
     "data": {
      "text/html": [
       "<div>\n",
       "<style scoped>\n",
       "    .dataframe tbody tr th:only-of-type {\n",
       "        vertical-align: middle;\n",
       "    }\n",
       "\n",
       "    .dataframe tbody tr th {\n",
       "        vertical-align: top;\n",
       "    }\n",
       "\n",
       "    .dataframe thead th {\n",
       "        text-align: right;\n",
       "    }\n",
       "</style>\n",
       "<table border=\"1\" class=\"dataframe\">\n",
       "  <thead>\n",
       "    <tr style=\"text-align: right;\">\n",
       "      <th></th>\n",
       "      <th>country_code</th>\n",
       "      <th>client_property_name</th>\n",
       "      <th>workorder_number</th>\n",
       "      <th>WhoDidIt</th>\n",
       "      <th>workorder_desc</th>\n",
       "      <th>WOCreatedDate</th>\n",
       "      <th>WODateCompleted</th>\n",
       "      <th>SLA</th>\n",
       "      <th>priority_code</th>\n",
       "      <th>type_code</th>\n",
       "      <th>...</th>\n",
       "      <th>problem_code_id</th>\n",
       "      <th>problem_code_desc</th>\n",
       "      <th>WO_Time</th>\n",
       "      <th>Date</th>\n",
       "      <th>Date_dt</th>\n",
       "      <th>Year</th>\n",
       "      <th>Month</th>\n",
       "      <th>DayOfMonth</th>\n",
       "      <th>DayOfWeek</th>\n",
       "      <th>TimePartOfDay</th>\n",
       "    </tr>\n",
       "  </thead>\n",
       "  <tbody>\n",
       "    <tr>\n",
       "      <th>45668</th>\n",
       "      <td>US</td>\n",
       "      <td>AL011-Mobile-917 Western America Cir-The Execu...</td>\n",
       "      <td>P24843</td>\n",
       "      <td>Selfgen</td>\n",
       "      <td>Switchboard, &lt;600V-A-CBRE-Global-EN</td>\n",
       "      <td>14-10-2022 07:03</td>\n",
       "      <td>NaN</td>\n",
       "      <td>Unknown</td>\n",
       "      <td>P9</td>\n",
       "      <td>PM</td>\n",
       "      <td>...</td>\n",
       "      <td>311001</td>\n",
       "      <td>Electrical PM</td>\n",
       "      <td>2022-10-14 07:03:00</td>\n",
       "      <td>2022-10-14</td>\n",
       "      <td>2022-10-14</td>\n",
       "      <td>2022</td>\n",
       "      <td>October</td>\n",
       "      <td>14</td>\n",
       "      <td>Friday</td>\n",
       "      <td>2</td>\n",
       "    </tr>\n",
       "    <tr>\n",
       "      <th>45669</th>\n",
       "      <td>US</td>\n",
       "      <td>AL011-Mobile-917 Western America Cir-The Execu...</td>\n",
       "      <td>P6663</td>\n",
       "      <td>Selfgen</td>\n",
       "      <td>Lighting, Emergency, Battery-M-CBRE-Global-EN</td>\n",
       "      <td>01-10-2022 07:02</td>\n",
       "      <td>NaN</td>\n",
       "      <td>Unknown</td>\n",
       "      <td>P9</td>\n",
       "      <td>PM</td>\n",
       "      <td>...</td>\n",
       "      <td>311001</td>\n",
       "      <td>Electrical PM</td>\n",
       "      <td>2022-01-10 07:02:00</td>\n",
       "      <td>2022-01-10</td>\n",
       "      <td>2022-01-10</td>\n",
       "      <td>2022</td>\n",
       "      <td>January</td>\n",
       "      <td>10</td>\n",
       "      <td>Monday</td>\n",
       "      <td>2</td>\n",
       "    </tr>\n",
       "    <tr>\n",
       "      <th>45670</th>\n",
       "      <td>US</td>\n",
       "      <td>AL012-Birmingham-1100 Lee Branch Ln</td>\n",
       "      <td>C1020</td>\n",
       "      <td>Selfgen</td>\n",
       "      <td>Empty Trash can:&gt;trash in my office is overflo...</td>\n",
       "      <td>26-09-2022 18:30</td>\n",
       "      <td>NaN</td>\n",
       "      <td>Unknown</td>\n",
       "      <td>P6</td>\n",
       "      <td>Corrective</td>\n",
       "      <td>...</td>\n",
       "      <td>131119</td>\n",
       "      <td>Empty Trash can</td>\n",
       "      <td>2022-09-26 18:30:00</td>\n",
       "      <td>2022-09-26</td>\n",
       "      <td>2022-09-26</td>\n",
       "      <td>2022</td>\n",
       "      <td>September</td>\n",
       "      <td>26</td>\n",
       "      <td>Monday</td>\n",
       "      <td>5</td>\n",
       "    </tr>\n",
       "    <tr>\n",
       "      <th>45671</th>\n",
       "      <td>US</td>\n",
       "      <td>AL012-Birmingham-1100 Lee Branch Ln</td>\n",
       "      <td>C1022</td>\n",
       "      <td>Selfgen</td>\n",
       "      <td>Exterior Lights Out Repair:&gt;light out above do...</td>\n",
       "      <td>26-09-2022 19:50</td>\n",
       "      <td>NaN</td>\n",
       "      <td>Unknown</td>\n",
       "      <td>P3</td>\n",
       "      <td>Corrective</td>\n",
       "      <td>...</td>\n",
       "      <td>141902</td>\n",
       "      <td>Exterior Lights Out Repair</td>\n",
       "      <td>2022-09-26 19:50:00</td>\n",
       "      <td>2022-09-26</td>\n",
       "      <td>2022-09-26</td>\n",
       "      <td>2022</td>\n",
       "      <td>September</td>\n",
       "      <td>26</td>\n",
       "      <td>Monday</td>\n",
       "      <td>5</td>\n",
       "    </tr>\n",
       "    <tr>\n",
       "      <th>45672</th>\n",
       "      <td>US</td>\n",
       "      <td>AL012-Birmingham-1100 Lee Branch Ln</td>\n",
       "      <td>C114222</td>\n",
       "      <td>Vendor</td>\n",
       "      <td>Electrical - Repair or Replace:&gt;ATTN TARA:\\nPl...</td>\n",
       "      <td>20-02-2023 22:35</td>\n",
       "      <td>22-02-2023 22:00</td>\n",
       "      <td>On time</td>\n",
       "      <td>P5</td>\n",
       "      <td>Corrective</td>\n",
       "      <td>...</td>\n",
       "      <td>141302</td>\n",
       "      <td>Electrical - Repair or Replace</td>\n",
       "      <td>2023-02-20 22:35:00</td>\n",
       "      <td>2023-02-20</td>\n",
       "      <td>2023-02-20</td>\n",
       "      <td>2023</td>\n",
       "      <td>February</td>\n",
       "      <td>20</td>\n",
       "      <td>Monday</td>\n",
       "      <td>6</td>\n",
       "    </tr>\n",
       "  </tbody>\n",
       "</table>\n",
       "<p>5 rows × 26 columns</p>\n",
       "</div>"
      ],
      "text/plain": [
       "      country_code                               client_property_name  \\\n",
       "45668           US  AL011-Mobile-917 Western America Cir-The Execu...   \n",
       "45669           US  AL011-Mobile-917 Western America Cir-The Execu...   \n",
       "45670           US                AL012-Birmingham-1100 Lee Branch Ln   \n",
       "45671           US                AL012-Birmingham-1100 Lee Branch Ln   \n",
       "45672           US                AL012-Birmingham-1100 Lee Branch Ln   \n",
       "\n",
       "      workorder_number WhoDidIt  \\\n",
       "45668           P24843  Selfgen   \n",
       "45669            P6663  Selfgen   \n",
       "45670            C1020  Selfgen   \n",
       "45671            C1022  Selfgen   \n",
       "45672          C114222   Vendor   \n",
       "\n",
       "                                          workorder_desc     WOCreatedDate  \\\n",
       "45668                Switchboard, <600V-A-CBRE-Global-EN  14-10-2022 07:03   \n",
       "45669      Lighting, Emergency, Battery-M-CBRE-Global-EN  01-10-2022 07:02   \n",
       "45670  Empty Trash can:>trash in my office is overflo...  26-09-2022 18:30   \n",
       "45671  Exterior Lights Out Repair:>light out above do...  26-09-2022 19:50   \n",
       "45672  Electrical - Repair or Replace:>ATTN TARA:\\nPl...  20-02-2023 22:35   \n",
       "\n",
       "        WODateCompleted      SLA priority_code   type_code  ...  \\\n",
       "45668               NaN  Unknown            P9          PM  ...   \n",
       "45669               NaN  Unknown            P9          PM  ...   \n",
       "45670               NaN  Unknown            P6  Corrective  ...   \n",
       "45671               NaN  Unknown            P3  Corrective  ...   \n",
       "45672  22-02-2023 22:00  On time            P5  Corrective  ...   \n",
       "\n",
       "       problem_code_id               problem_code_desc             WO_Time  \\\n",
       "45668           311001                   Electrical PM 2022-10-14 07:03:00   \n",
       "45669           311001                   Electrical PM 2022-01-10 07:02:00   \n",
       "45670           131119                 Empty Trash can 2022-09-26 18:30:00   \n",
       "45671           141902      Exterior Lights Out Repair 2022-09-26 19:50:00   \n",
       "45672           141302  Electrical - Repair or Replace 2023-02-20 22:35:00   \n",
       "\n",
       "             Date    Date_dt  Year      Month DayOfMonth DayOfWeek  \\\n",
       "45668  2022-10-14 2022-10-14  2022    October         14    Friday   \n",
       "45669  2022-01-10 2022-01-10  2022    January         10    Monday   \n",
       "45670  2022-09-26 2022-09-26  2022  September         26    Monday   \n",
       "45671  2022-09-26 2022-09-26  2022  September         26    Monday   \n",
       "45672  2023-02-20 2023-02-20  2023   February         20    Monday   \n",
       "\n",
       "      TimePartOfDay  \n",
       "45668             2  \n",
       "45669             2  \n",
       "45670             5  \n",
       "45671             5  \n",
       "45672             6  \n",
       "\n",
       "[5 rows x 26 columns]"
      ]
     },
     "execution_count": 22,
     "metadata": {},
     "output_type": "execute_result"
    },
    {
     "name": "stdout",
     "output_type": "stream",
     "text": [
      "time: 22 ms (started: 2023-06-15 06:27:38 +00:00)\n"
     ]
    }
   ],
   "source": [
    "ModelData.head()"
   ]
  },
  {
   "cell_type": "code",
   "execution_count": 23,
   "id": "f9d957eb-6b45-4884-9cf4-75ef8b8b8e97",
   "metadata": {},
   "outputs": [
    {
     "data": {
      "text/plain": [
       "2023    93028\n",
       "2022    54231\n",
       "Name: Year, dtype: int64"
      ]
     },
     "execution_count": 23,
     "metadata": {},
     "output_type": "execute_result"
    },
    {
     "name": "stdout",
     "output_type": "stream",
     "text": [
      "time: 3.28 ms (started: 2023-06-15 06:27:38 +00:00)\n"
     ]
    }
   ],
   "source": [
    "ModelData['Year'].value_counts()"
   ]
  },
  {
   "cell_type": "code",
   "execution_count": 24,
   "id": "4da633bd-4c0f-425a-b795-6ebb521d9be7",
   "metadata": {},
   "outputs": [
    {
     "name": "stdout",
     "output_type": "stream",
     "text": [
      "time: 94.4 ms (started: 2023-06-15 06:27:38 +00:00)\n"
     ]
    }
   ],
   "source": [
    "ModelData = ModelData[(ModelData['Date_dt'] < \"2023-03-01\")]"
   ]
  },
  {
   "cell_type": "code",
   "execution_count": 25,
   "id": "ffb8619f-5bd0-46bb-b720-b672a7170449",
   "metadata": {},
   "outputs": [
    {
     "name": "stdout",
     "output_type": "stream",
     "text": [
      "<class 'pandas.core.frame.DataFrame'>\n",
      "Int64Index: 119812 entries, 45668 to 192921\n",
      "Data columns (total 26 columns):\n",
      " #   Column                     Non-Null Count   Dtype         \n",
      "---  ------                     --------------   -----         \n",
      " 0   country_code               119812 non-null  object        \n",
      " 1   client_property_name       119812 non-null  object        \n",
      " 2   workorder_number           119812 non-null  object        \n",
      " 3   WhoDidIt                   119812 non-null  object        \n",
      " 4   workorder_desc             119809 non-null  object        \n",
      " 5   WOCreatedDate              119812 non-null  object        \n",
      " 6   WODateCompleted            71101 non-null   object        \n",
      " 7   SLA                        119812 non-null  object        \n",
      " 8   priority_code              119812 non-null  object        \n",
      " 9   type_code                  119812 non-null  object        \n",
      " 10  category_code              119812 non-null  int64         \n",
      " 11  category_code_desc         119812 non-null  object        \n",
      " 12  sub_category_code          119812 non-null  int64         \n",
      " 13  sub_category_code_desc     119812 non-null  object        \n",
      " 14  repair_category_code       119812 non-null  int64         \n",
      " 15  repair_category_code_desc  119812 non-null  object        \n",
      " 16  problem_code_id            119812 non-null  int64         \n",
      " 17  problem_code_desc          119812 non-null  object        \n",
      " 18  WO_Time                    119812 non-null  datetime64[ns]\n",
      " 19  Date                       119812 non-null  object        \n",
      " 20  Date_dt                    119812 non-null  datetime64[ns]\n",
      " 21  Year                       119812 non-null  int64         \n",
      " 22  Month                      119812 non-null  object        \n",
      " 23  DayOfMonth                 119812 non-null  int64         \n",
      " 24  DayOfWeek                  119812 non-null  object        \n",
      " 25  TimePartOfDay              119812 non-null  int64         \n",
      "dtypes: datetime64[ns](2), int64(7), object(17)\n",
      "memory usage: 24.7+ MB\n",
      "time: 92.2 ms (started: 2023-06-15 06:27:38 +00:00)\n"
     ]
    }
   ],
   "source": [
    "ModelData.info()"
   ]
  },
  {
   "cell_type": "code",
   "execution_count": 26,
   "id": "6c21b22e-ee8d-40f3-ac1c-079d66ecb71e",
   "metadata": {},
   "outputs": [
    {
     "name": "stdout",
     "output_type": "stream",
     "text": [
      "time: 225 µs (started: 2023-06-15 06:27:39 +00:00)\n"
     ]
    }
   ],
   "source": [
    "#falkflsdkfjlkdjfsdkjf"
   ]
  },
  {
   "cell_type": "code",
   "execution_count": 27,
   "id": "5162a075-8f8e-424f-a05d-ec0e911238b4",
   "metadata": {},
   "outputs": [
    {
     "name": "stdout",
     "output_type": "stream",
     "text": [
      "time: 19.3 ms (started: 2023-06-15 06:27:39 +00:00)\n"
     ]
    }
   ],
   "source": [
    "UnknownData = ModelData[(ModelData.SLA == 'Unknown')]"
   ]
  },
  {
   "cell_type": "code",
   "execution_count": 28,
   "id": "7019ded3-3b35-487f-9266-d8f890f15f93",
   "metadata": {},
   "outputs": [
    {
     "data": {
      "text/plain": [
       "48711"
      ]
     },
     "execution_count": 28,
     "metadata": {},
     "output_type": "execute_result"
    },
    {
     "name": "stdout",
     "output_type": "stream",
     "text": [
      "time: 1.86 ms (started: 2023-06-15 06:27:39 +00:00)\n"
     ]
    }
   ],
   "source": [
    "len(UnknownData)"
   ]
  },
  {
   "cell_type": "code",
   "execution_count": 29,
   "id": "1cc912df-4469-4861-ad6c-5bb10838016c",
   "metadata": {},
   "outputs": [
    {
     "name": "stdout",
     "output_type": "stream",
     "text": [
      "time: 25.6 ms (started: 2023-06-15 06:27:39 +00:00)\n"
     ]
    }
   ],
   "source": [
    "Model_Data = ModelData[(ModelData.SLA != 'Unknown')]"
   ]
  },
  {
   "cell_type": "code",
   "execution_count": 30,
   "id": "a00290e1-ac68-487c-adce-d018fcc366ca",
   "metadata": {},
   "outputs": [
    {
     "data": {
      "text/plain": [
       "71101"
      ]
     },
     "execution_count": 30,
     "metadata": {},
     "output_type": "execute_result"
    },
    {
     "name": "stdout",
     "output_type": "stream",
     "text": [
      "time: 1.71 ms (started: 2023-06-15 06:27:39 +00:00)\n"
     ]
    }
   ],
   "source": [
    "len(Model_Data)"
   ]
  },
  {
   "cell_type": "code",
   "execution_count": 31,
   "id": "348dde73-6f28-44ad-bd5a-8c1346563763",
   "metadata": {},
   "outputs": [
    {
     "data": {
      "text/plain": [
       "192927"
      ]
     },
     "execution_count": 31,
     "metadata": {},
     "output_type": "execute_result"
    },
    {
     "name": "stdout",
     "output_type": "stream",
     "text": [
      "time: 1.74 ms (started: 2023-06-15 06:27:39 +00:00)\n"
     ]
    }
   ],
   "source": [
    "127076+65851"
   ]
  },
  {
   "cell_type": "code",
   "execution_count": 32,
   "id": "6f90cd16-21da-4cc3-bbe0-79aead055315",
   "metadata": {},
   "outputs": [
    {
     "data": {
      "text/plain": [
       "0    63024\n",
       "1     8077\n",
       "Name: Target_Label, dtype: int64"
      ]
     },
     "execution_count": 32,
     "metadata": {},
     "output_type": "execute_result"
    },
    {
     "name": "stdout",
     "output_type": "stream",
     "text": [
      "time: 8.04 ms (started: 2023-06-15 06:27:39 +00:00)\n"
     ]
    }
   ],
   "source": [
    "Model_Data['Target_Label'] = np.where(Model_Data['SLA'] == 'Missed', 1 ,0)\n",
    "Model_Data['Target_Label'].value_counts()"
   ]
  },
  {
   "cell_type": "code",
   "execution_count": 33,
   "id": "54d1cf46-5c97-4a9a-ab67-23f93c37e180",
   "metadata": {},
   "outputs": [
    {
     "data": {
      "text/plain": [
       "7.802897115265569"
      ]
     },
     "execution_count": 33,
     "metadata": {},
     "output_type": "execute_result"
    },
    {
     "name": "stdout",
     "output_type": "stream",
     "text": [
      "time: 1.6 ms (started: 2023-06-15 06:27:39 +00:00)\n"
     ]
    }
   ],
   "source": [
    "63024/8077"
   ]
  },
  {
   "cell_type": "code",
   "execution_count": 34,
   "id": "e2546ad1-0496-477e-9bba-609fbeab70cb",
   "metadata": {},
   "outputs": [
    {
     "name": "stdout",
     "output_type": "stream",
     "text": [
      "<class 'pandas.core.frame.DataFrame'>\n",
      "Int64Index: 71101 entries, 45672 to 192921\n",
      "Data columns (total 27 columns):\n",
      " #   Column                     Non-Null Count  Dtype         \n",
      "---  ------                     --------------  -----         \n",
      " 0   country_code               71101 non-null  object        \n",
      " 1   client_property_name       71101 non-null  object        \n",
      " 2   workorder_number           71101 non-null  object        \n",
      " 3   WhoDidIt                   71101 non-null  object        \n",
      " 4   workorder_desc             71099 non-null  object        \n",
      " 5   WOCreatedDate              71101 non-null  object        \n",
      " 6   WODateCompleted            71101 non-null  object        \n",
      " 7   SLA                        71101 non-null  object        \n",
      " 8   priority_code              71101 non-null  object        \n",
      " 9   type_code                  71101 non-null  object        \n",
      " 10  category_code              71101 non-null  int64         \n",
      " 11  category_code_desc         71101 non-null  object        \n",
      " 12  sub_category_code          71101 non-null  int64         \n",
      " 13  sub_category_code_desc     71101 non-null  object        \n",
      " 14  repair_category_code       71101 non-null  int64         \n",
      " 15  repair_category_code_desc  71101 non-null  object        \n",
      " 16  problem_code_id            71101 non-null  int64         \n",
      " 17  problem_code_desc          71101 non-null  object        \n",
      " 18  WO_Time                    71101 non-null  datetime64[ns]\n",
      " 19  Date                       71101 non-null  object        \n",
      " 20  Date_dt                    71101 non-null  datetime64[ns]\n",
      " 21  Year                       71101 non-null  int64         \n",
      " 22  Month                      71101 non-null  object        \n",
      " 23  DayOfMonth                 71101 non-null  int64         \n",
      " 24  DayOfWeek                  71101 non-null  object        \n",
      " 25  TimePartOfDay              71101 non-null  int64         \n",
      " 26  Target_Label               71101 non-null  int64         \n",
      "dtypes: datetime64[ns](2), int64(8), object(17)\n",
      "memory usage: 15.2+ MB\n",
      "time: 63.3 ms (started: 2023-06-15 06:27:39 +00:00)\n"
     ]
    }
   ],
   "source": [
    "Model_Data.info()"
   ]
  },
  {
   "cell_type": "markdown",
   "id": "3c26a837-8adb-44bd-bd7e-517c5e86b33a",
   "metadata": {},
   "source": [
    "## Model Data"
   ]
  },
  {
   "cell_type": "code",
   "execution_count": 35,
   "id": "d4c40a65-59e4-4dcb-90d0-4f32fe00debf",
   "metadata": {},
   "outputs": [
    {
     "name": "stdout",
     "output_type": "stream",
     "text": [
      "time: 534 µs (started: 2023-06-15 06:27:39 +00:00)\n"
     ]
    }
   ],
   "source": [
    "# Global Variables\n",
    "KEY_COLS = ['client_property_name','WhoDidIt','priority_code','type_code','category_code','sub_category_code','problem_code_id',\n",
    "            'Month','DayOfWeek','TimePartOfDay','Target_Label']\n",
    "CATEGORICALS = ['client_property_name','WhoDidIt','priority_code','type_code','Month','DayOfWeek']\n",
    "NUMERICS = ['category_code','sub_category_code','problem_code_id','TimePartOfDay']\n",
    "TARGET = 'Target_Label'"
   ]
  },
  {
   "cell_type": "code",
   "execution_count": 36,
   "id": "201167e7-dc13-4761-a963-0ee90779502b",
   "metadata": {},
   "outputs": [
    {
     "name": "stdout",
     "output_type": "stream",
     "text": [
      "time: 46.1 ms (started: 2023-06-15 06:27:39 +00:00)\n"
     ]
    }
   ],
   "source": [
    "UseData = Model_Data[KEY_COLS]\n",
    "UseData = UseData.drop_duplicates()"
   ]
  },
  {
   "cell_type": "code",
   "execution_count": 37,
   "id": "6a766761-66ee-49c1-9167-4d63ae42745e",
   "metadata": {},
   "outputs": [
    {
     "name": "stdout",
     "output_type": "stream",
     "text": [
      "<class 'pandas.core.frame.DataFrame'>\n",
      "Int64Index: 39194 entries, 45672 to 192921\n",
      "Data columns (total 11 columns):\n",
      " #   Column                Non-Null Count  Dtype \n",
      "---  ------                --------------  ----- \n",
      " 0   client_property_name  39194 non-null  object\n",
      " 1   WhoDidIt              39194 non-null  object\n",
      " 2   priority_code         39194 non-null  object\n",
      " 3   type_code             39194 non-null  object\n",
      " 4   category_code         39194 non-null  int64 \n",
      " 5   sub_category_code     39194 non-null  int64 \n",
      " 6   problem_code_id       39194 non-null  int64 \n",
      " 7   Month                 39194 non-null  object\n",
      " 8   DayOfWeek             39194 non-null  object\n",
      " 9   TimePartOfDay         39194 non-null  int64 \n",
      " 10  Target_Label          39194 non-null  int64 \n",
      "dtypes: int64(5), object(6)\n",
      "memory usage: 3.6+ MB\n",
      "time: 16.8 ms (started: 2023-06-15 06:27:39 +00:00)\n"
     ]
    }
   ],
   "source": [
    "UseData.info()"
   ]
  },
  {
   "cell_type": "code",
   "execution_count": 38,
   "id": "b937e30b-bc68-483f-b44d-d8772e0490f5",
   "metadata": {},
   "outputs": [
    {
     "data": {
      "text/plain": [
       "0    32685\n",
       "1     6509\n",
       "Name: Target_Label, dtype: int64"
      ]
     },
     "execution_count": 38,
     "metadata": {},
     "output_type": "execute_result"
    },
    {
     "name": "stdout",
     "output_type": "stream",
     "text": [
      "time: 2.91 ms (started: 2023-06-15 06:27:39 +00:00)\n"
     ]
    }
   ],
   "source": [
    "UseData['Target_Label'].value_counts()"
   ]
  },
  {
   "cell_type": "code",
   "execution_count": 39,
   "id": "69fc757c-0c5f-4660-8dd5-2f764da1e3a4",
   "metadata": {},
   "outputs": [
    {
     "data": {
      "text/plain": [
       "5.0215086802888305"
      ]
     },
     "execution_count": 39,
     "metadata": {},
     "output_type": "execute_result"
    },
    {
     "name": "stdout",
     "output_type": "stream",
     "text": [
      "time: 1.96 ms (started: 2023-06-15 06:27:39 +00:00)\n"
     ]
    }
   ],
   "source": [
    "32685/6509"
   ]
  },
  {
   "cell_type": "code",
   "execution_count": 40,
   "id": "0a8d1cb6-d940-45a4-b775-0bfc97f55933",
   "metadata": {},
   "outputs": [
    {
     "data": {
      "text/plain": [
       "['client_property_name',\n",
       " 'WhoDidIt',\n",
       " 'priority_code',\n",
       " 'type_code',\n",
       " 'Month',\n",
       " 'DayOfWeek']"
      ]
     },
     "execution_count": 40,
     "metadata": {},
     "output_type": "execute_result"
    },
    {
     "name": "stdout",
     "output_type": "stream",
     "text": [
      "time: 1.96 ms (started: 2023-06-15 06:27:39 +00:00)\n"
     ]
    }
   ],
   "source": [
    "CATEGORICALS"
   ]
  }
 ],
 "metadata": {
  "kernelspec": {
   "display_name": "Python 3 (ipykernel)",
   "language": "python",
   "name": "python3"
  },
  "language_info": {
   "codemirror_mode": {
    "name": "ipython",
    "version": 3
   },
   "file_extension": ".py",
   "mimetype": "text/x-python",
   "name": "python",
   "nbconvert_exporter": "python",
   "pygments_lexer": "ipython3",
   "version": "3.8.10"
  }
 },
 "nbformat": 4,
 "nbformat_minor": 5
}
